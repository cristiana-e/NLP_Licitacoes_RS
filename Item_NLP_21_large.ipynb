{
  "cells": [
    {
      "cell_type": "markdown",
      "metadata": {
        "id": "view-in-github",
        "colab_type": "text"
      },
      "source": [
        "<a href=\"https://colab.research.google.com/github/cristiana-e/NLP_Licitacoes_RS/blob/master/Item_NLP_21_large.ipynb\" target=\"_parent\"><img src=\"https://colab.research.google.com/assets/colab-badge.svg\" alt=\"Open In Colab\"/></a>"
      ]
    },
    {
      "cell_type": "markdown",
      "source": [
        "# Análise das licitações de itens no Rio Grande do Sul em 2021\n",
        "\n",
        "Desafio: propõe-se a análise de uma base com as licitações dos órgãos públicos do Rio Grande do Sul\n",
        "\n",
        "Este estudo foi realizado utilizando a seguinte metodologia:\n",
        "\n",
        "- Tratamento dos dados: tratamento dos dados, tais como exclusão de \"stop words\", exclusão de pontuação, tokenização, etc;\n",
        "- Codificação: uso de técnicas para codificar o texto tokenizado;\n",
        "- Modelagem: uso de modelos para agrupar os objetos das licitações em conjuntos comuns;\n",
        "- Análise exploratória dos dados."
      ],
      "metadata": {
        "id": "reIDV_F-9jFI"
      }
    },
    {
      "cell_type": "markdown",
      "source": [
        "# Instalando as dependências necessárias"
      ],
      "metadata": {
        "id": "bmmyKyxm52rL"
      }
    },
    {
      "cell_type": "code",
      "execution_count": null,
      "metadata": {
        "colab": {
          "base_uri": "https://localhost:8080/",
          "height": 1000
        },
        "id": "ChfjinxM665d",
        "outputId": "f82ced7d-8c67-4611-f0b7-e16d77e7b6ea"
      },
      "outputs": [
        {
          "output_type": "stream",
          "name": "stdout",
          "text": [
            "Requirement already satisfied: pip in /usr/local/lib/python3.7/dist-packages (21.1.3)\n",
            "Collecting pip\n",
            "  Downloading pip-22.0.4-py3-none-any.whl (2.1 MB)\n",
            "\u001b[K     |████████████████████████████████| 2.1 MB 12.9 MB/s \n",
            "\u001b[?25hRequirement already satisfied: setuptools in /usr/local/lib/python3.7/dist-packages (57.4.0)\n",
            "Collecting setuptools\n",
            "  Downloading setuptools-60.9.3-py3-none-any.whl (1.1 MB)\n",
            "\u001b[K     |████████████████████████████████| 1.1 MB 59.7 MB/s \n",
            "\u001b[?25hRequirement already satisfied: wheel in /usr/local/lib/python3.7/dist-packages (0.37.1)\n",
            "Installing collected packages: setuptools, pip\n",
            "  Attempting uninstall: setuptools\n",
            "    Found existing installation: setuptools 57.4.0\n",
            "    Uninstalling setuptools-57.4.0:\n",
            "      Successfully uninstalled setuptools-57.4.0\n",
            "  Attempting uninstall: pip\n",
            "    Found existing installation: pip 21.1.3\n",
            "    Uninstalling pip-21.1.3:\n",
            "      Successfully uninstalled pip-21.1.3\n",
            "\u001b[31mERROR: pip's dependency resolver does not currently take into account all the packages that are installed. This behaviour is the source of the following dependency conflicts.\n",
            "tensorflow 2.8.0 requires tf-estimator-nightly==2.8.0.dev2021122109, which is not installed.\n",
            "datascience 0.10.6 requires folium==0.2.1, but you have folium 0.8.3 which is incompatible.\u001b[0m\n",
            "Successfully installed pip-22.0.4 setuptools-60.9.3\n"
          ]
        },
        {
          "output_type": "display_data",
          "data": {
            "application/vnd.colab-display-data+json": {
              "pip_warning": {
                "packages": [
                  "pkg_resources"
                ]
              }
            }
          },
          "metadata": {}
        },
        {
          "output_type": "stream",
          "name": "stdout",
          "text": [
            "Requirement already satisfied: spacy in /usr/local/lib/python3.7/dist-packages (2.2.4)\n",
            "Collecting spacy\n",
            "  Downloading spacy-3.2.3-cp37-cp37m-manylinux_2_17_x86_64.manylinux2014_x86_64.whl (6.0 MB)\n",
            "\u001b[2K     \u001b[90m━━━━━━━━━━━━━━━━━━━━━━━━━━━━━━━━━━━━━━━━\u001b[0m \u001b[32m6.0/6.0 MB\u001b[0m \u001b[31m38.3 MB/s\u001b[0m eta \u001b[36m0:00:00\u001b[0m\n",
            "\u001b[?25hRequirement already satisfied: setuptools in /usr/local/lib/python3.7/dist-packages (from spacy) (60.9.3)\n",
            "Requirement already satisfied: typing-extensions<4.0.0.0,>=3.7.4 in /usr/local/lib/python3.7/dist-packages (from spacy) (3.10.0.2)\n",
            "Requirement already satisfied: cymem<2.1.0,>=2.0.2 in /usr/local/lib/python3.7/dist-packages (from spacy) (2.0.6)\n",
            "Collecting pathy>=0.3.5\n",
            "  Downloading pathy-0.6.1-py3-none-any.whl (42 kB)\n",
            "\u001b[2K     \u001b[90m━━━━━━━━━━━━━━━━━━━━━━━━━━━━━━━━━━━━━━━━\u001b[0m \u001b[32m42.8/42.8 KB\u001b[0m \u001b[31m5.1 MB/s\u001b[0m eta \u001b[36m0:00:00\u001b[0m\n",
            "\u001b[?25hCollecting spacy-legacy<3.1.0,>=3.0.8\n",
            "  Downloading spacy_legacy-3.0.9-py2.py3-none-any.whl (20 kB)\n",
            "Requirement already satisfied: tqdm<5.0.0,>=4.38.0 in /usr/local/lib/python3.7/dist-packages (from spacy) (4.63.0)\n",
            "Collecting spacy-loggers<2.0.0,>=1.0.0\n",
            "  Downloading spacy_loggers-1.0.1-py3-none-any.whl (7.0 kB)\n",
            "Collecting langcodes<4.0.0,>=3.2.0\n",
            "  Downloading langcodes-3.3.0-py3-none-any.whl (181 kB)\n",
            "\u001b[2K     \u001b[90m━━━━━━━━━━━━━━━━━━━━━━━━━━━━━━━━━━━━━━\u001b[0m \u001b[32m181.6/181.6 KB\u001b[0m \u001b[31m12.6 MB/s\u001b[0m eta \u001b[36m0:00:00\u001b[0m\n",
            "\u001b[?25hRequirement already satisfied: murmurhash<1.1.0,>=0.28.0 in /usr/local/lib/python3.7/dist-packages (from spacy) (1.0.6)\n",
            "Collecting srsly<3.0.0,>=2.4.1\n",
            "  Downloading srsly-2.4.2-cp37-cp37m-manylinux_2_17_x86_64.manylinux2014_x86_64.whl (451 kB)\n",
            "\u001b[2K     \u001b[90m━━━━━━━━━━━━━━━━━━━━━━━━━━━━━━━━━━━━━━\u001b[0m \u001b[32m452.0/452.0 KB\u001b[0m \u001b[31m33.2 MB/s\u001b[0m eta \u001b[36m0:00:00\u001b[0m\n",
            "\u001b[?25hCollecting typer<0.5.0,>=0.3.0\n",
            "  Downloading typer-0.4.0-py3-none-any.whl (27 kB)\n",
            "Requirement already satisfied: jinja2 in /usr/local/lib/python3.7/dist-packages (from spacy) (2.11.3)\n",
            "Requirement already satisfied: numpy>=1.15.0 in /usr/local/lib/python3.7/dist-packages (from spacy) (1.21.5)\n",
            "Collecting catalogue<2.1.0,>=2.0.6\n",
            "  Downloading catalogue-2.0.6-py3-none-any.whl (17 kB)\n",
            "Collecting pydantic!=1.8,!=1.8.1,<1.9.0,>=1.7.4\n",
            "  Downloading pydantic-1.8.2-cp37-cp37m-manylinux2014_x86_64.whl (10.1 MB)\n",
            "\u001b[2K     \u001b[90m━━━━━━━━━━━━━━━━━━━━━━━━━━━━━━━━━━━━━━━━\u001b[0m \u001b[32m10.1/10.1 MB\u001b[0m \u001b[31m35.9 MB/s\u001b[0m eta \u001b[36m0:00:00\u001b[0m\n",
            "\u001b[?25hRequirement already satisfied: wasabi<1.1.0,>=0.8.1 in /usr/local/lib/python3.7/dist-packages (from spacy) (0.9.0)\n",
            "Requirement already satisfied: blis<0.8.0,>=0.4.0 in /usr/local/lib/python3.7/dist-packages (from spacy) (0.4.1)\n",
            "Requirement already satisfied: preshed<3.1.0,>=3.0.2 in /usr/local/lib/python3.7/dist-packages (from spacy) (3.0.6)\n",
            "Requirement already satisfied: requests<3.0.0,>=2.13.0 in /usr/local/lib/python3.7/dist-packages (from spacy) (2.23.0)\n",
            "Requirement already satisfied: packaging>=20.0 in /usr/local/lib/python3.7/dist-packages (from spacy) (21.3)\n",
            "Collecting thinc<8.1.0,>=8.0.12\n",
            "  Downloading thinc-8.0.13-cp37-cp37m-manylinux_2_17_x86_64.manylinux2014_x86_64.whl (628 kB)\n",
            "\u001b[2K     \u001b[90m━━━━━━━━━━━━━━━━━━━━━━━━━━━━━━━━━━━━━━\u001b[0m \u001b[32m628.2/628.2 KB\u001b[0m \u001b[31m26.1 MB/s\u001b[0m eta \u001b[36m0:00:00\u001b[0m\n",
            "\u001b[?25hRequirement already satisfied: zipp>=0.5 in /usr/local/lib/python3.7/dist-packages (from catalogue<2.1.0,>=2.0.6->spacy) (3.7.0)\n",
            "Requirement already satisfied: pyparsing!=3.0.5,>=2.0.2 in /usr/local/lib/python3.7/dist-packages (from packaging>=20.0->spacy) (3.0.7)\n",
            "Requirement already satisfied: smart-open<6.0.0,>=5.0.0 in /usr/local/lib/python3.7/dist-packages (from pathy>=0.3.5->spacy) (5.2.1)\n",
            "Requirement already satisfied: certifi>=2017.4.17 in /usr/local/lib/python3.7/dist-packages (from requests<3.0.0,>=2.13.0->spacy) (2021.10.8)\n",
            "Requirement already satisfied: urllib3!=1.25.0,!=1.25.1,<1.26,>=1.21.1 in /usr/local/lib/python3.7/dist-packages (from requests<3.0.0,>=2.13.0->spacy) (1.24.3)\n",
            "Requirement already satisfied: chardet<4,>=3.0.2 in /usr/local/lib/python3.7/dist-packages (from requests<3.0.0,>=2.13.0->spacy) (3.0.4)\n",
            "Requirement already satisfied: idna<3,>=2.5 in /usr/local/lib/python3.7/dist-packages (from requests<3.0.0,>=2.13.0->spacy) (2.10)\n",
            "Requirement already satisfied: click<9.0.0,>=7.1.1 in /usr/local/lib/python3.7/dist-packages (from typer<0.5.0,>=0.3.0->spacy) (7.1.2)\n",
            "Requirement already satisfied: MarkupSafe>=0.23 in /usr/local/lib/python3.7/dist-packages (from jinja2->spacy) (2.0.1)\n",
            "Installing collected packages: typer, spacy-loggers, spacy-legacy, pydantic, langcodes, catalogue, srsly, pathy, thinc, spacy\n",
            "  Attempting uninstall: catalogue\n",
            "    Found existing installation: catalogue 1.0.0\n",
            "    Uninstalling catalogue-1.0.0:\n",
            "      Successfully uninstalled catalogue-1.0.0\n",
            "  Attempting uninstall: srsly\n",
            "    Found existing installation: srsly 1.0.5\n",
            "    Uninstalling srsly-1.0.5:\n",
            "      Successfully uninstalled srsly-1.0.5\n",
            "  Attempting uninstall: thinc\n",
            "    Found existing installation: thinc 7.4.0\n",
            "    Uninstalling thinc-7.4.0:\n",
            "      Successfully uninstalled thinc-7.4.0\n",
            "  Attempting uninstall: spacy\n",
            "    Found existing installation: spacy 2.2.4\n",
            "    Uninstalling spacy-2.2.4:\n",
            "      Successfully uninstalled spacy-2.2.4\n",
            "Successfully installed catalogue-2.0.6 langcodes-3.3.0 pathy-0.6.1 pydantic-1.8.2 spacy-3.2.3 spacy-legacy-3.0.9 spacy-loggers-1.0.1 srsly-2.4.2 thinc-8.0.13 typer-0.4.0\n",
            "\u001b[33mWARNING: Running pip as the 'root' user can result in broken permissions and conflicting behaviour with the system package manager. It is recommended to use a virtual environment instead: https://pip.pypa.io/warnings/venv\u001b[0m\u001b[33m\n",
            "\u001b[0m"
          ]
        }
      ],
      "source": [
        "!pip install -U pip setuptools wheel\n",
        "!pip install -U spacy"
      ]
    },
    {
      "cell_type": "code",
      "execution_count": null,
      "metadata": {
        "colab": {
          "base_uri": "https://localhost:8080/"
        },
        "id": "VO-D2Ek57BuA",
        "outputId": "cdd307a5-29f5-40a4-c197-18a6e933605d"
      },
      "outputs": [
        {
          "output_type": "stream",
          "name": "stdout",
          "text": [
            "Collecting pt-core-news-sm==3.2.0\n",
            "  Downloading https://github.com/explosion/spacy-models/releases/download/pt_core_news_sm-3.2.0/pt_core_news_sm-3.2.0-py3-none-any.whl (22.2 MB)\n",
            "\u001b[2K     \u001b[90m━━━━━━━━━━━━━━━━━━━━━━━━━━━━━━━━━━━━━━━━\u001b[0m \u001b[32m22.2/22.2 MB\u001b[0m \u001b[31m31.7 MB/s\u001b[0m eta \u001b[36m0:00:00\u001b[0m\n",
            "\u001b[?25hRequirement already satisfied: spacy<3.3.0,>=3.2.0 in /usr/local/lib/python3.7/dist-packages (from pt-core-news-sm==3.2.0) (3.2.3)\n",
            "Requirement already satisfied: spacy-legacy<3.1.0,>=3.0.8 in /usr/local/lib/python3.7/dist-packages (from spacy<3.3.0,>=3.2.0->pt-core-news-sm==3.2.0) (3.0.9)\n",
            "Requirement already satisfied: tqdm<5.0.0,>=4.38.0 in /usr/local/lib/python3.7/dist-packages (from spacy<3.3.0,>=3.2.0->pt-core-news-sm==3.2.0) (4.63.0)\n",
            "Requirement already satisfied: catalogue<2.1.0,>=2.0.6 in /usr/local/lib/python3.7/dist-packages (from spacy<3.3.0,>=3.2.0->pt-core-news-sm==3.2.0) (2.0.6)\n",
            "Requirement already satisfied: wasabi<1.1.0,>=0.8.1 in /usr/local/lib/python3.7/dist-packages (from spacy<3.3.0,>=3.2.0->pt-core-news-sm==3.2.0) (0.9.0)\n",
            "Requirement already satisfied: typer<0.5.0,>=0.3.0 in /usr/local/lib/python3.7/dist-packages (from spacy<3.3.0,>=3.2.0->pt-core-news-sm==3.2.0) (0.4.0)\n",
            "Requirement already satisfied: srsly<3.0.0,>=2.4.1 in /usr/local/lib/python3.7/dist-packages (from spacy<3.3.0,>=3.2.0->pt-core-news-sm==3.2.0) (2.4.2)\n",
            "Requirement already satisfied: packaging>=20.0 in /usr/local/lib/python3.7/dist-packages (from spacy<3.3.0,>=3.2.0->pt-core-news-sm==3.2.0) (21.3)\n",
            "Requirement already satisfied: blis<0.8.0,>=0.4.0 in /usr/local/lib/python3.7/dist-packages (from spacy<3.3.0,>=3.2.0->pt-core-news-sm==3.2.0) (0.4.1)\n",
            "Requirement already satisfied: requests<3.0.0,>=2.13.0 in /usr/local/lib/python3.7/dist-packages (from spacy<3.3.0,>=3.2.0->pt-core-news-sm==3.2.0) (2.23.0)\n",
            "Requirement already satisfied: numpy>=1.15.0 in /usr/local/lib/python3.7/dist-packages (from spacy<3.3.0,>=3.2.0->pt-core-news-sm==3.2.0) (1.21.5)\n",
            "Requirement already satisfied: setuptools in /usr/local/lib/python3.7/dist-packages (from spacy<3.3.0,>=3.2.0->pt-core-news-sm==3.2.0) (60.9.3)\n",
            "Requirement already satisfied: pydantic!=1.8,!=1.8.1,<1.9.0,>=1.7.4 in /usr/local/lib/python3.7/dist-packages (from spacy<3.3.0,>=3.2.0->pt-core-news-sm==3.2.0) (1.8.2)\n",
            "Requirement already satisfied: spacy-loggers<2.0.0,>=1.0.0 in /usr/local/lib/python3.7/dist-packages (from spacy<3.3.0,>=3.2.0->pt-core-news-sm==3.2.0) (1.0.1)\n",
            "Requirement already satisfied: preshed<3.1.0,>=3.0.2 in /usr/local/lib/python3.7/dist-packages (from spacy<3.3.0,>=3.2.0->pt-core-news-sm==3.2.0) (3.0.6)\n",
            "Requirement already satisfied: langcodes<4.0.0,>=3.2.0 in /usr/local/lib/python3.7/dist-packages (from spacy<3.3.0,>=3.2.0->pt-core-news-sm==3.2.0) (3.3.0)\n",
            "Requirement already satisfied: murmurhash<1.1.0,>=0.28.0 in /usr/local/lib/python3.7/dist-packages (from spacy<3.3.0,>=3.2.0->pt-core-news-sm==3.2.0) (1.0.6)\n",
            "Requirement already satisfied: typing-extensions<4.0.0.0,>=3.7.4 in /usr/local/lib/python3.7/dist-packages (from spacy<3.3.0,>=3.2.0->pt-core-news-sm==3.2.0) (3.10.0.2)\n",
            "Requirement already satisfied: cymem<2.1.0,>=2.0.2 in /usr/local/lib/python3.7/dist-packages (from spacy<3.3.0,>=3.2.0->pt-core-news-sm==3.2.0) (2.0.6)\n",
            "Requirement already satisfied: thinc<8.1.0,>=8.0.12 in /usr/local/lib/python3.7/dist-packages (from spacy<3.3.0,>=3.2.0->pt-core-news-sm==3.2.0) (8.0.13)\n",
            "Requirement already satisfied: jinja2 in /usr/local/lib/python3.7/dist-packages (from spacy<3.3.0,>=3.2.0->pt-core-news-sm==3.2.0) (2.11.3)\n",
            "Requirement already satisfied: pathy>=0.3.5 in /usr/local/lib/python3.7/dist-packages (from spacy<3.3.0,>=3.2.0->pt-core-news-sm==3.2.0) (0.6.1)\n",
            "Requirement already satisfied: zipp>=0.5 in /usr/local/lib/python3.7/dist-packages (from catalogue<2.1.0,>=2.0.6->spacy<3.3.0,>=3.2.0->pt-core-news-sm==3.2.0) (3.7.0)\n",
            "Requirement already satisfied: pyparsing!=3.0.5,>=2.0.2 in /usr/local/lib/python3.7/dist-packages (from packaging>=20.0->spacy<3.3.0,>=3.2.0->pt-core-news-sm==3.2.0) (3.0.7)\n",
            "Requirement already satisfied: smart-open<6.0.0,>=5.0.0 in /usr/local/lib/python3.7/dist-packages (from pathy>=0.3.5->spacy<3.3.0,>=3.2.0->pt-core-news-sm==3.2.0) (5.2.1)\n",
            "Requirement already satisfied: idna<3,>=2.5 in /usr/local/lib/python3.7/dist-packages (from requests<3.0.0,>=2.13.0->spacy<3.3.0,>=3.2.0->pt-core-news-sm==3.2.0) (2.10)\n",
            "Requirement already satisfied: certifi>=2017.4.17 in /usr/local/lib/python3.7/dist-packages (from requests<3.0.0,>=2.13.0->spacy<3.3.0,>=3.2.0->pt-core-news-sm==3.2.0) (2021.10.8)\n",
            "Requirement already satisfied: chardet<4,>=3.0.2 in /usr/local/lib/python3.7/dist-packages (from requests<3.0.0,>=2.13.0->spacy<3.3.0,>=3.2.0->pt-core-news-sm==3.2.0) (3.0.4)\n",
            "Requirement already satisfied: urllib3!=1.25.0,!=1.25.1,<1.26,>=1.21.1 in /usr/local/lib/python3.7/dist-packages (from requests<3.0.0,>=2.13.0->spacy<3.3.0,>=3.2.0->pt-core-news-sm==3.2.0) (1.24.3)\n",
            "Requirement already satisfied: click<9.0.0,>=7.1.1 in /usr/local/lib/python3.7/dist-packages (from typer<0.5.0,>=0.3.0->spacy<3.3.0,>=3.2.0->pt-core-news-sm==3.2.0) (7.1.2)\n",
            "Requirement already satisfied: MarkupSafe>=0.23 in /usr/local/lib/python3.7/dist-packages (from jinja2->spacy<3.3.0,>=3.2.0->pt-core-news-sm==3.2.0) (2.0.1)\n",
            "Installing collected packages: pt-core-news-sm\n",
            "Successfully installed pt-core-news-sm-3.2.0\n",
            "\u001b[33mWARNING: Running pip as the 'root' user can result in broken permissions and conflicting behaviour with the system package manager. It is recommended to use a virtual environment instead: https://pip.pypa.io/warnings/venv\u001b[0m\u001b[33m\n",
            "\u001b[0m\u001b[38;5;2m✔ Download and installation successful\u001b[0m\n",
            "You can now load the package via spacy.load('pt_core_news_sm')\n"
          ]
        }
      ],
      "source": [
        "!python -m spacy download pt_core_news_sm"
      ]
    },
    {
      "cell_type": "markdown",
      "source": [
        "# Importando os bibliotecas"
      ],
      "metadata": {
        "id": "ahoakNTG5-zN"
      }
    },
    {
      "cell_type": "code",
      "execution_count": null,
      "metadata": {
        "id": "gwsU0NJD71pO"
      },
      "outputs": [],
      "source": [
        "import pandas as pd\n",
        "import numpy as np\n",
        "\n",
        "import matplotlib.pyplot as plt\n",
        "%matplotlib inline\n",
        "import seaborn as sns\n",
        "\n",
        "from datetime import datetime\n",
        "\n",
        "import spacy\n",
        "import nltk\n",
        "from sklearn.feature_extraction.text import TfidfVectorizer\n",
        "import re\n",
        "\n",
        "from tqdm import tqdm\n",
        "from sklearn.cluster import KMeans\n",
        "import warnings\n",
        "warnings.filterwarnings('ignore')"
      ]
    },
    {
      "cell_type": "code",
      "execution_count": null,
      "metadata": {
        "id": "cD-TzW5l72T3"
      },
      "outputs": [],
      "source": [
        "nlp = spacy.load('pt_core_news_sm') #carregamento do core em PT"
      ]
    },
    {
      "cell_type": "code",
      "execution_count": null,
      "metadata": {
        "colab": {
          "base_uri": "https://localhost:8080/"
        },
        "id": "npoOVY9273N-",
        "outputId": "8f5dee98-9a16-4374-a27f-0e1eac5e3d7f"
      },
      "outputs": [
        {
          "output_type": "stream",
          "name": "stdout",
          "text": [
            "[nltk_data] Downloading package stopwords to /root/nltk_data...\n",
            "[nltk_data]   Unzipping corpora/stopwords.zip.\n"
          ]
        },
        {
          "output_type": "execute_result",
          "data": {
            "text/plain": [
              "True"
            ]
          },
          "metadata": {},
          "execution_count": 5
        }
      ],
      "source": [
        "nltk.download('stopwords') #download das stopwords"
      ]
    },
    {
      "cell_type": "code",
      "execution_count": null,
      "metadata": {
        "id": "My2Ybmc8753Y"
      },
      "outputs": [],
      "source": [
        "stopwords = nltk.corpus.stopwords.words('portuguese') #carregando as stopwords em pt"
      ]
    },
    {
      "cell_type": "markdown",
      "metadata": {
        "id": "Yaeda8Lz8ObC"
      },
      "source": [
        "#Primeira visualizaçao do dataset\n",
        "\n",
        "**Explorando os dados do arquivo de Licitações de ITENS de 2021.**"
      ]
    },
    {
      "cell_type": "code",
      "execution_count": null,
      "metadata": {
        "colab": {
          "base_uri": "https://localhost:8080/",
          "height": 565
        },
        "id": "KqR9529n7-Y6",
        "outputId": "9254f482-fe8a-40e2-99c5-834d15bdcde6"
      },
      "outputs": [
        {
          "output_type": "execute_result",
          "data": {
            "text/html": [
              "\n",
              "  <div id=\"df-ce75c88e-ae02-4c67-902c-b7fa50a0adea\">\n",
              "    <div class=\"colab-df-container\">\n",
              "      <div>\n",
              "<style scoped>\n",
              "    .dataframe tbody tr th:only-of-type {\n",
              "        vertical-align: middle;\n",
              "    }\n",
              "\n",
              "    .dataframe tbody tr th {\n",
              "        vertical-align: top;\n",
              "    }\n",
              "\n",
              "    .dataframe thead th {\n",
              "        text-align: right;\n",
              "    }\n",
              "</style>\n",
              "<table border=\"1\" class=\"dataframe\">\n",
              "  <thead>\n",
              "    <tr style=\"text-align: right;\">\n",
              "      <th></th>\n",
              "      <th>CD_ORGAO</th>\n",
              "      <th>NR_LICITACAO</th>\n",
              "      <th>ANO_LICITACAO</th>\n",
              "      <th>CD_TIPO_MODALIDADE</th>\n",
              "      <th>NR_LOTE</th>\n",
              "      <th>NR_ITEM</th>\n",
              "      <th>NR_ITEM_ORIGINAL</th>\n",
              "      <th>DS_ITEM</th>\n",
              "      <th>QT_ITENS</th>\n",
              "      <th>SG_UNIDADE_MEDIDA</th>\n",
              "      <th>VL_UNITARIO_ESTIMADO</th>\n",
              "      <th>VL_TOTAL_ESTIMADO</th>\n",
              "      <th>DT_REF_VALOR_ESTIMADO</th>\n",
              "      <th>PC_BDI_ESTIMADO</th>\n",
              "      <th>PC_ENCARGOS_SOCIAIS_ESTIMADO</th>\n",
              "      <th>CD_FONTE_REFERENCIA</th>\n",
              "      <th>DS_FONTE_REFERENCIA</th>\n",
              "      <th>TP_RESULTADO_ITEM</th>\n",
              "      <th>VL_UNITARIO_HOMOLOGADO</th>\n",
              "      <th>VL_TOTAL_HOMOLOGADO</th>\n",
              "      <th>PC_BDI_HOMOLOGADO</th>\n",
              "      <th>PC_ENCARGOS_SOCIAIS_HOMOLOGADO</th>\n",
              "      <th>TP_ORCAMENTO</th>\n",
              "      <th>CD_TIPO_FAMILIA</th>\n",
              "      <th>CD_TIPO_SUBFAMILIA</th>\n",
              "      <th>TP_DOCUMENTO</th>\n",
              "      <th>NR_DOCUMENTO</th>\n",
              "      <th>TP_DOCUMENTO.1</th>\n",
              "      <th>NR_DOCUMENTO.1</th>\n",
              "      <th>TP_BENEFICIO_MICRO_EPP</th>\n",
              "      <th>PC_TX_ESTIMADA</th>\n",
              "      <th>PC_TX_HOMOLOGADA</th>\n",
              "      <th>BL_COVID19</th>\n",
              "    </tr>\n",
              "  </thead>\n",
              "  <tbody>\n",
              "    <tr>\n",
              "      <th>0</th>\n",
              "      <td>44500</td>\n",
              "      <td>274.0</td>\n",
              "      <td>2021</td>\n",
              "      <td>CPC</td>\n",
              "      <td>1</td>\n",
              "      <td>1</td>\n",
              "      <td>1</td>\n",
              "      <td>Credenciamento de academias de ginástica e mus...</td>\n",
              "      <td>1.0</td>\n",
              "      <td>UN</td>\n",
              "      <td>50.00</td>\n",
              "      <td>50.00</td>\n",
              "      <td>NaN</td>\n",
              "      <td>NaN</td>\n",
              "      <td>NaN</td>\n",
              "      <td>NaN</td>\n",
              "      <td>NaN</td>\n",
              "      <td>NaN</td>\n",
              "      <td>NaN</td>\n",
              "      <td>NaN</td>\n",
              "      <td>NaN</td>\n",
              "      <td>NaN</td>\n",
              "      <td>NaN</td>\n",
              "      <td>NaN</td>\n",
              "      <td>NaN</td>\n",
              "      <td>NaN</td>\n",
              "      <td>NaN</td>\n",
              "      <td>NaN</td>\n",
              "      <td>NaN</td>\n",
              "      <td>NaN</td>\n",
              "      <td>NaN</td>\n",
              "      <td>NaN</td>\n",
              "      <td>N</td>\n",
              "    </tr>\n",
              "    <tr>\n",
              "      <th>1</th>\n",
              "      <td>56900</td>\n",
              "      <td>25.0</td>\n",
              "      <td>2021</td>\n",
              "      <td>TMP</td>\n",
              "      <td>1</td>\n",
              "      <td>1</td>\n",
              "      <td>1.1</td>\n",
              "      <td>PLACA DE OBRA (PARA CONSTRUCAO CIVIL) EM CHAPA...</td>\n",
              "      <td>6.0</td>\n",
              "      <td>M2</td>\n",
              "      <td>272.49</td>\n",
              "      <td>1634.94</td>\n",
              "      <td>2021-06-18</td>\n",
              "      <td>21.11</td>\n",
              "      <td>111.1</td>\n",
              "      <td>00004813</td>\n",
              "      <td>SINAPI</td>\n",
              "      <td>NaN</td>\n",
              "      <td>NaN</td>\n",
              "      <td>NaN</td>\n",
              "      <td>NaN</td>\n",
              "      <td>NaN</td>\n",
              "      <td>NaN</td>\n",
              "      <td>NaN</td>\n",
              "      <td>NaN</td>\n",
              "      <td>NaN</td>\n",
              "      <td>NaN</td>\n",
              "      <td>NaN</td>\n",
              "      <td>NaN</td>\n",
              "      <td>NaN</td>\n",
              "      <td>NaN</td>\n",
              "      <td>NaN</td>\n",
              "      <td>N</td>\n",
              "    </tr>\n",
              "    <tr>\n",
              "      <th>2</th>\n",
              "      <td>56900</td>\n",
              "      <td>25.0</td>\n",
              "      <td>2021</td>\n",
              "      <td>TMP</td>\n",
              "      <td>1</td>\n",
              "      <td>2</td>\n",
              "      <td>1.2</td>\n",
              "      <td>TAPUME COM COMPENSADO DE MADEIRA. AF_05/2018</td>\n",
              "      <td>71.0</td>\n",
              "      <td>M2</td>\n",
              "      <td>128.69</td>\n",
              "      <td>9136.99</td>\n",
              "      <td>2021-06-18</td>\n",
              "      <td>21.11</td>\n",
              "      <td>111.1</td>\n",
              "      <td>98458</td>\n",
              "      <td>SINAPI</td>\n",
              "      <td>NaN</td>\n",
              "      <td>NaN</td>\n",
              "      <td>NaN</td>\n",
              "      <td>NaN</td>\n",
              "      <td>NaN</td>\n",
              "      <td>NaN</td>\n",
              "      <td>NaN</td>\n",
              "      <td>NaN</td>\n",
              "      <td>NaN</td>\n",
              "      <td>NaN</td>\n",
              "      <td>NaN</td>\n",
              "      <td>NaN</td>\n",
              "      <td>NaN</td>\n",
              "      <td>NaN</td>\n",
              "      <td>NaN</td>\n",
              "      <td>N</td>\n",
              "    </tr>\n",
              "    <tr>\n",
              "      <th>3</th>\n",
              "      <td>56900</td>\n",
              "      <td>25.0</td>\n",
              "      <td>2021</td>\n",
              "      <td>TMP</td>\n",
              "      <td>1</td>\n",
              "      <td>3</td>\n",
              "      <td>1.3</td>\n",
              "      <td>PODA EM ALTURA DE ÁRVORE COM DIÂMETRO DE TRONC...</td>\n",
              "      <td>2.0</td>\n",
              "      <td>UN</td>\n",
              "      <td>271.62</td>\n",
              "      <td>543.24</td>\n",
              "      <td>2021-06-18</td>\n",
              "      <td>21.11</td>\n",
              "      <td>111.1</td>\n",
              "      <td>98533</td>\n",
              "      <td>SINAPI</td>\n",
              "      <td>NaN</td>\n",
              "      <td>NaN</td>\n",
              "      <td>NaN</td>\n",
              "      <td>NaN</td>\n",
              "      <td>NaN</td>\n",
              "      <td>NaN</td>\n",
              "      <td>NaN</td>\n",
              "      <td>NaN</td>\n",
              "      <td>NaN</td>\n",
              "      <td>NaN</td>\n",
              "      <td>NaN</td>\n",
              "      <td>NaN</td>\n",
              "      <td>NaN</td>\n",
              "      <td>NaN</td>\n",
              "      <td>NaN</td>\n",
              "      <td>N</td>\n",
              "    </tr>\n",
              "    <tr>\n",
              "      <th>4</th>\n",
              "      <td>56900</td>\n",
              "      <td>25.0</td>\n",
              "      <td>2021</td>\n",
              "      <td>TMP</td>\n",
              "      <td>1</td>\n",
              "      <td>4</td>\n",
              "      <td>1.4</td>\n",
              "      <td>LOCACAO DE CONTAINER 2,30  X  6,00 M, ALT. 2,5...</td>\n",
              "      <td>6.0</td>\n",
              "      <td>MES</td>\n",
              "      <td>539.31</td>\n",
              "      <td>3235.86</td>\n",
              "      <td>2021-06-18</td>\n",
              "      <td>21.11</td>\n",
              "      <td>111.1</td>\n",
              "      <td>00010776</td>\n",
              "      <td>SINAPI</td>\n",
              "      <td>NaN</td>\n",
              "      <td>NaN</td>\n",
              "      <td>NaN</td>\n",
              "      <td>NaN</td>\n",
              "      <td>NaN</td>\n",
              "      <td>NaN</td>\n",
              "      <td>NaN</td>\n",
              "      <td>NaN</td>\n",
              "      <td>NaN</td>\n",
              "      <td>NaN</td>\n",
              "      <td>NaN</td>\n",
              "      <td>NaN</td>\n",
              "      <td>NaN</td>\n",
              "      <td>NaN</td>\n",
              "      <td>NaN</td>\n",
              "      <td>N</td>\n",
              "    </tr>\n",
              "  </tbody>\n",
              "</table>\n",
              "</div>\n",
              "      <button class=\"colab-df-convert\" onclick=\"convertToInteractive('df-ce75c88e-ae02-4c67-902c-b7fa50a0adea')\"\n",
              "              title=\"Convert this dataframe to an interactive table.\"\n",
              "              style=\"display:none;\">\n",
              "        \n",
              "  <svg xmlns=\"http://www.w3.org/2000/svg\" height=\"24px\"viewBox=\"0 0 24 24\"\n",
              "       width=\"24px\">\n",
              "    <path d=\"M0 0h24v24H0V0z\" fill=\"none\"/>\n",
              "    <path d=\"M18.56 5.44l.94 2.06.94-2.06 2.06-.94-2.06-.94-.94-2.06-.94 2.06-2.06.94zm-11 1L8.5 8.5l.94-2.06 2.06-.94-2.06-.94L8.5 2.5l-.94 2.06-2.06.94zm10 10l.94 2.06.94-2.06 2.06-.94-2.06-.94-.94-2.06-.94 2.06-2.06.94z\"/><path d=\"M17.41 7.96l-1.37-1.37c-.4-.4-.92-.59-1.43-.59-.52 0-1.04.2-1.43.59L10.3 9.45l-7.72 7.72c-.78.78-.78 2.05 0 2.83L4 21.41c.39.39.9.59 1.41.59.51 0 1.02-.2 1.41-.59l7.78-7.78 2.81-2.81c.8-.78.8-2.07 0-2.86zM5.41 20L4 18.59l7.72-7.72 1.47 1.35L5.41 20z\"/>\n",
              "  </svg>\n",
              "      </button>\n",
              "      \n",
              "  <style>\n",
              "    .colab-df-container {\n",
              "      display:flex;\n",
              "      flex-wrap:wrap;\n",
              "      gap: 12px;\n",
              "    }\n",
              "\n",
              "    .colab-df-convert {\n",
              "      background-color: #E8F0FE;\n",
              "      border: none;\n",
              "      border-radius: 50%;\n",
              "      cursor: pointer;\n",
              "      display: none;\n",
              "      fill: #1967D2;\n",
              "      height: 32px;\n",
              "      padding: 0 0 0 0;\n",
              "      width: 32px;\n",
              "    }\n",
              "\n",
              "    .colab-df-convert:hover {\n",
              "      background-color: #E2EBFA;\n",
              "      box-shadow: 0px 1px 2px rgba(60, 64, 67, 0.3), 0px 1px 3px 1px rgba(60, 64, 67, 0.15);\n",
              "      fill: #174EA6;\n",
              "    }\n",
              "\n",
              "    [theme=dark] .colab-df-convert {\n",
              "      background-color: #3B4455;\n",
              "      fill: #D2E3FC;\n",
              "    }\n",
              "\n",
              "    [theme=dark] .colab-df-convert:hover {\n",
              "      background-color: #434B5C;\n",
              "      box-shadow: 0px 1px 3px 1px rgba(0, 0, 0, 0.15);\n",
              "      filter: drop-shadow(0px 1px 2px rgba(0, 0, 0, 0.3));\n",
              "      fill: #FFFFFF;\n",
              "    }\n",
              "  </style>\n",
              "\n",
              "      <script>\n",
              "        const buttonEl =\n",
              "          document.querySelector('#df-ce75c88e-ae02-4c67-902c-b7fa50a0adea button.colab-df-convert');\n",
              "        buttonEl.style.display =\n",
              "          google.colab.kernel.accessAllowed ? 'block' : 'none';\n",
              "\n",
              "        async function convertToInteractive(key) {\n",
              "          const element = document.querySelector('#df-ce75c88e-ae02-4c67-902c-b7fa50a0adea');\n",
              "          const dataTable =\n",
              "            await google.colab.kernel.invokeFunction('convertToInteractive',\n",
              "                                                     [key], {});\n",
              "          if (!dataTable) return;\n",
              "\n",
              "          const docLinkHtml = 'Like what you see? Visit the ' +\n",
              "            '<a target=\"_blank\" href=https://colab.research.google.com/notebooks/data_table.ipynb>data table notebook</a>'\n",
              "            + ' to learn more about interactive tables.';\n",
              "          element.innerHTML = '';\n",
              "          dataTable['output_type'] = 'display_data';\n",
              "          await google.colab.output.renderOutput(dataTable, element);\n",
              "          const docLink = document.createElement('div');\n",
              "          docLink.innerHTML = docLinkHtml;\n",
              "          element.appendChild(docLink);\n",
              "        }\n",
              "      </script>\n",
              "    </div>\n",
              "  </div>\n",
              "  "
            ],
            "text/plain": [
              "   CD_ORGAO  NR_LICITACAO  ...  PC_TX_HOMOLOGADA BL_COVID19\n",
              "0     44500         274.0  ...               NaN          N\n",
              "1     56900          25.0  ...               NaN          N\n",
              "2     56900          25.0  ...               NaN          N\n",
              "3     56900          25.0  ...               NaN          N\n",
              "4     56900          25.0  ...               NaN          N\n",
              "\n",
              "[5 rows x 33 columns]"
            ]
          },
          "metadata": {},
          "execution_count": 41
        }
      ],
      "source": [
        "#importando e lendo o arquivo\n",
        "item = pd.read_csv('/content/drive/MyDrive/IBM/Data Science/BTP/Datasets/Lic_RS/i_2021.csv')\n",
        "\n",
        "#exibindo as primeiras entradas dos dados\n",
        "item.head()"
      ]
    },
    {
      "cell_type": "code",
      "execution_count": null,
      "metadata": {
        "colab": {
          "base_uri": "https://localhost:8080/"
        },
        "id": "5dsXK1IB7_eV",
        "outputId": "12c209c7-ab7a-4e8d-adca-0ec68fce471a"
      },
      "outputs": [
        {
          "output_type": "execute_result",
          "data": {
            "text/plain": [
              "(972247, 33)"
            ]
          },
          "metadata": {},
          "execution_count": 42
        }
      ],
      "source": [
        "#Vizualizando o formato do dataset\n",
        "item.shape"
      ]
    },
    {
      "cell_type": "code",
      "execution_count": null,
      "metadata": {
        "colab": {
          "base_uri": "https://localhost:8080/"
        },
        "id": "4kLAN-648onP",
        "outputId": "3d05f72f-e926-4b98-f359-a9bf6635f736"
      },
      "outputs": [
        {
          "output_type": "execute_result",
          "data": {
            "text/plain": [
              "['CD_ORGAO',\n",
              " 'NR_LICITACAO',\n",
              " 'ANO_LICITACAO',\n",
              " 'CD_TIPO_MODALIDADE',\n",
              " 'NR_LOTE',\n",
              " 'NR_ITEM',\n",
              " 'NR_ITEM_ORIGINAL',\n",
              " 'DS_ITEM',\n",
              " 'QT_ITENS',\n",
              " 'SG_UNIDADE_MEDIDA',\n",
              " 'VL_UNITARIO_ESTIMADO',\n",
              " 'VL_TOTAL_ESTIMADO',\n",
              " 'DT_REF_VALOR_ESTIMADO',\n",
              " 'PC_BDI_ESTIMADO',\n",
              " 'PC_ENCARGOS_SOCIAIS_ESTIMADO',\n",
              " 'CD_FONTE_REFERENCIA',\n",
              " 'DS_FONTE_REFERENCIA',\n",
              " 'TP_RESULTADO_ITEM',\n",
              " 'VL_UNITARIO_HOMOLOGADO',\n",
              " 'VL_TOTAL_HOMOLOGADO',\n",
              " 'PC_BDI_HOMOLOGADO',\n",
              " 'PC_ENCARGOS_SOCIAIS_HOMOLOGADO',\n",
              " 'TP_ORCAMENTO',\n",
              " 'CD_TIPO_FAMILIA',\n",
              " 'CD_TIPO_SUBFAMILIA',\n",
              " 'TP_DOCUMENTO',\n",
              " 'NR_DOCUMENTO',\n",
              " 'TP_DOCUMENTO.1',\n",
              " 'NR_DOCUMENTO.1',\n",
              " 'TP_BENEFICIO_MICRO_EPP',\n",
              " 'PC_TX_ESTIMADA',\n",
              " 'PC_TX_HOMOLOGADA',\n",
              " 'BL_COVID19']"
            ]
          },
          "metadata": {},
          "execution_count": 43
        }
      ],
      "source": [
        "#Listando o nome das colunas do dataset\n",
        "list(item.columns.values)"
      ]
    },
    {
      "cell_type": "code",
      "execution_count": null,
      "metadata": {
        "colab": {
          "base_uri": "https://localhost:8080/"
        },
        "id": "JOwo-d3O8qik",
        "outputId": "eedc24a4-2c00-4f2c-fede-9707b5ed6a4b"
      },
      "outputs": [
        {
          "output_type": "execute_result",
          "data": {
            "text/plain": [
              "PC_TX_ESTIMADA                    972169\n",
              "PC_TX_HOMOLOGADA                  972164\n",
              "CD_TIPO_SUBFAMILIA                960009\n",
              "CD_TIPO_FAMILIA                   956619\n",
              "TP_ORCAMENTO                      877994\n",
              "NR_DOCUMENTO.1                    853515\n",
              "TP_DOCUMENTO.1                    853515\n",
              "CD_FONTE_REFERENCIA               816130\n",
              "DS_FONTE_REFERENCIA               783530\n",
              "DT_REF_VALOR_ESTIMADO             680399\n",
              "PC_ENCARGOS_SOCIAIS_HOMOLOGADO    675433\n",
              "PC_BDI_HOMOLOGADO                 674786\n",
              "PC_BDI_ESTIMADO                   668165\n",
              "PC_ENCARGOS_SOCIAIS_ESTIMADO      665835\n",
              "TP_DOCUMENTO                      480154\n",
              "NR_DOCUMENTO                      480154\n",
              "TP_RESULTADO_ITEM                 413098\n",
              "TP_BENEFICIO_MICRO_EPP            341228\n",
              "VL_UNITARIO_HOMOLOGADO            295480\n",
              "VL_TOTAL_HOMOLOGADO               295480\n",
              "VL_UNITARIO_ESTIMADO               39446\n",
              "VL_TOTAL_ESTIMADO                  39446\n",
              "DS_ITEM                                1\n",
              "CD_ORGAO                               0\n",
              "NR_LICITACAO                           0\n",
              "SG_UNIDADE_MEDIDA                      0\n",
              "QT_ITENS                               0\n",
              "NR_ITEM_ORIGINAL                       0\n",
              "NR_ITEM                                0\n",
              "NR_LOTE                                0\n",
              "CD_TIPO_MODALIDADE                     0\n",
              "ANO_LICITACAO                          0\n",
              "BL_COVID19                             0\n",
              "dtype: int64"
            ]
          },
          "metadata": {},
          "execution_count": 44
        }
      ],
      "source": [
        "#exibindo os valores ausentes cara cada coluna (as colunas com maior número de valores ausentes ficam localizalas no topo da lista)\n",
        "(item.isnull().sum()).sort_values(ascending=False)"
      ]
    },
    {
      "cell_type": "markdown",
      "metadata": {
        "id": "K1OdV2zL-MD0"
      },
      "source": [
        "## Removendo dados nulos\n",
        "\n",
        "Agora que temos uma ideia de como são os dados no dataset, iremos remover as entradas vazias de forma que as informações dos dados fiquem mais limpas e removemos conteúdos desnecessários para nossa análise.\n",
        "Das colunas vazias, manteremos algumas para finalizar nossas conclusões."
      ]
    },
    {
      "cell_type": "code",
      "execution_count": null,
      "metadata": {
        "id": "NrpKZRbBRxZ7"
      },
      "outputs": [],
      "source": [
        "#Removendo colunas com valores inexistentes, exceto 'VL_LICITACAO', 'VL_HOMOLOGADO' e 'DT_HOMOLOGACAO'\n",
        "drop = item.isna().any()\n",
        "cols_to_ignore = ['VL_UNITARIO_HOMOLOGADO', 'VL_TOTAL_HOMOLOGADO', 'DT_REF_VALOR_ESTIMADO', 'DS_ITEM']\n",
        "drop[cols_to_ignore] = False\n",
        "\n",
        "item = item.loc[:, ~drop]"
      ]
    },
    {
      "cell_type": "code",
      "execution_count": null,
      "metadata": {
        "colab": {
          "base_uri": "https://localhost:8080/"
        },
        "id": "AfBFN2q9Sh0H",
        "outputId": "4041c1eb-eb59-4e56-891f-b4f8a5242245"
      },
      "outputs": [
        {
          "output_type": "execute_result",
          "data": {
            "text/plain": [
              "DT_REF_VALOR_ESTIMADO     680399\n",
              "VL_UNITARIO_HOMOLOGADO    295480\n",
              "VL_TOTAL_HOMOLOGADO       295480\n",
              "DS_ITEM                        1\n",
              "CD_ORGAO                       0\n",
              "NR_LICITACAO                   0\n",
              "ANO_LICITACAO                  0\n",
              "CD_TIPO_MODALIDADE             0\n",
              "NR_LOTE                        0\n",
              "NR_ITEM                        0\n",
              "NR_ITEM_ORIGINAL               0\n",
              "QT_ITENS                       0\n",
              "SG_UNIDADE_MEDIDA              0\n",
              "BL_COVID19                     0\n",
              "dtype: int64"
            ]
          },
          "metadata": {},
          "execution_count": 46
        }
      ],
      "source": [
        "(item.isnull().sum()).sort_values(ascending=False)"
      ]
    },
    {
      "cell_type": "code",
      "execution_count": null,
      "metadata": {
        "colab": {
          "base_uri": "https://localhost:8080/"
        },
        "id": "hypepeji8Czi",
        "outputId": "7bfd24fb-fd7f-4910-82ac-7caaa429d567"
      },
      "outputs": [
        {
          "output_type": "execute_result",
          "data": {
            "text/plain": [
              "(972247, 14)"
            ]
          },
          "metadata": {},
          "execution_count": 47
        }
      ],
      "source": [
        "#Conferindo o impacto das mudanças no dataset\n",
        "item.shape"
      ]
    },
    {
      "cell_type": "code",
      "source": [
        "#Removendo a linha nula que ainda não foi resolvida na coluna dos itens\n",
        "item.dropna(subset=['DS_ITEM'], inplace=True)"
      ],
      "metadata": {
        "id": "lu0D8uf1hd5m"
      },
      "execution_count": null,
      "outputs": []
    },
    {
      "cell_type": "code",
      "source": [
        "item.shape"
      ],
      "metadata": {
        "colab": {
          "base_uri": "https://localhost:8080/"
        },
        "id": "0oS2wyA2hoof",
        "outputId": "ae2096d0-8cd0-405b-9518-f6b681225bd8"
      },
      "execution_count": null,
      "outputs": [
        {
          "output_type": "execute_result",
          "data": {
            "text/plain": [
              "(972246, 14)"
            ]
          },
          "metadata": {},
          "execution_count": 49
        }
      ]
    },
    {
      "cell_type": "code",
      "execution_count": null,
      "metadata": {
        "colab": {
          "base_uri": "https://localhost:8080/"
        },
        "id": "zhqty0coFBip",
        "outputId": "3111377a-277f-4f50-de40-cf435f11ef33"
      },
      "outputs": [
        {
          "output_type": "execute_result",
          "data": {
            "text/plain": [
              "0     Credenciamento de academias de ginástica e mus...\n",
              "1     PLACA DE OBRA (PARA CONSTRUCAO CIVIL) EM CHAPA...\n",
              "2          TAPUME COM COMPENSADO DE MADEIRA. AF_05/2018\n",
              "3     PODA EM ALTURA DE ÁRVORE COM DIÂMETRO DE TRONC...\n",
              "4     LOCACAO DE CONTAINER 2,30  X  6,00 M, ALT. 2,5...\n",
              "5     LOCACAO CONVENCIONAL DE OBRA, UTILIZANDO GABAR...\n",
              "6     RECOMPOSIÇÃO PARCIAL DE ARAME FARPADO Nº 14 CL...\n",
              "7     LIMPEZA MECANIZADA DE CAMADA VEGETAL, VEGETAÇÃ...\n",
              "8                                       ARQUITETO PLENO\n",
              "9                            ENCARREGADO GERAL DE OBRAS\n",
              "10    DEMOLIÇÃO DE ALVENARIA DE BLOCO FURADO, DE FOR...\n",
              "11    REMOÇÃO DE LOUÇAS, DE FORMA MANUAL, SEM REAPRO...\n",
              "12    ESCAVAÇÃO MANUAL DE VALA COM PROFUNDIDADE MENO...\n",
              "13    PREPARO DE FUNDO DE VALA COM LARGURA MENOR QUE...\n",
              "14    FABRICAÇÃO, MONTAGEM E DESMONTAGEM DE FÔRMA PA...\n",
              "15    LASTRO DE CONCRETO MAGRO, APLICADO EM BLOCOS D...\n",
              "16    ARMAÇÃO DE BLOCO, VIGA BALDRAME OU SAPATA UTIL...\n",
              "17    CONCRETAGEM DE SAPATAS, FCK 30 MPA, COM USO DE...\n",
              "18    REATERRO MANUAL DE VALAS COM COMPACTAÇÃO MECAN...\n",
              "19    ESCAVAÇÃO MANUAL DE VALA COM PROFUNDIDADE MENO...\n",
              "20    PREPARO DE FUNDO DE VALA COM LARGURA MENOR QUE...\n",
              "21    FABRICAÇÃO, MONTAGEM E DESMONTAGEM DE FÔRMA PA...\n",
              "22    LASTRO DE CONCRETO MAGRO, APLICADO EM BLOCOS D...\n",
              "23    ARMAÇÃO DE BLOCO, VIGA BALDRAME E SAPATA UTILI...\n",
              "24    ARMAÇÃO DE BLOCO, VIGA BALDRAME OU SAPATA UTIL...\n",
              "25    ARMAÇÃO DE BLOCO, VIGA BALDRAME OU SAPATA UTIL...\n",
              "26    CONCRETAGEM DE BLOCOS DE COROAMENTO E VIGAS BA...\n",
              "27    REATERRO MANUAL DE VALAS COM COMPACTAÇÃO MECAN...\n",
              "28    IMPERMEABILIZAÇÃO DE SUPERFÍCIE COM EMULSÃO AS...\n",
              "29    MONTAGEM E DESMONTAGEM DE FÔRMA DE PILARES RET...\n",
              "Name: DS_ITEM, dtype: object"
            ]
          },
          "metadata": {},
          "execution_count": 102
        }
      ],
      "source": [
        "#Explorando as entradas da descrição dos objetos\n",
        "item['DS_ITEM'].head(30)"
      ]
    },
    {
      "cell_type": "markdown",
      "metadata": {
        "id": "sO7V9-7qF4Dp"
      },
      "source": [
        "## Tratando os dados\n",
        "\n",
        "Depois de uma exploração inicial dos nossos dados, podemos elaborar um plano para tratá-los, de forma que possam ser melhor aproveitados.\n",
        "Como podemos ver acima, há alguns caracteres que não possuem relevância para este estudo e que podem ser excluídos. Além disso, seguiremos com os seguintes passos:\n",
        "- Padronização de palavras em caixa baixa.\n",
        "- Remoção de caractecres especiais, dígitos, stopwords e espaçamentos desnecessários.\n",
        "- Tokenização dos dados.\n",
        "\n",
        "Após o tratamento, os dados serão salvos em uma nova coluna no dataset."
      ]
    },
    {
      "cell_type": "code",
      "execution_count": null,
      "metadata": {
        "id": "Plx3peQGF0xY"
      },
      "outputs": [],
      "source": [
        "# Carregamento das stopwords\n",
        "stopwords = nltk.corpus.stopwords.words('portuguese') "
      ]
    },
    {
      "cell_type": "code",
      "execution_count": null,
      "metadata": {
        "id": "CBsk_cs-F2QN"
      },
      "outputs": [],
      "source": [
        "#Criando um filtro para alguns caracteres especiais encontrados junto das stopwords\n",
        "filter_words = stopwords + ['kg', 'g','mg', 'km', 'm', 'cm', 'mm', 'ml', 'm²', 'm³', 'cm²','cm³', '-', '+', '=', 'mcg', 'nº', 'ª', 'º', 'un', 'aquisição', 'registro', 'contratação', 'solicitação', 'serviço', 'prestação', 'empresa', 'locação', 'licitação', 'empresas', 'serviços', 'kit', 'kits']"
      ]
    },
    {
      "cell_type": "markdown",
      "metadata": {
        "id": "d6UAa4zJGM_g"
      },
      "source": [
        "### Expressões regulares e Tokenização\n",
        "\n",
        "Expressões regulares (ou regex) são mecanismos de buscas por padrões em texto. Utilizaremos desta ferramenta para encontrar os caracteres que resejamos remover. \n",
        "\n",
        "Em seguida. iniciaremos o processo de tokeninzação, que é a primeira fase no processamento de um texto, quebrando os componentes das frases em tokens. Esses tokens podem ser consultados futuramente dentro de  um objeto doc que conterá os dados de nossa análise."
      ]
    },
    {
      "cell_type": "code",
      "execution_count": null,
      "metadata": {
        "id": "1HphOmY5GLpw"
      },
      "outputs": [],
      "source": [
        "# Criando a função de tratamento dos dados\n",
        "def clean_data_tokenization(sentence):\n",
        "    sentence = sentence.lower() # conversão para caixa baixa\n",
        "    sentence = re.sub(r\"[^\\w\\s]\", \"\",sentence) # Removendo caracteres especiais\n",
        "    sentence = re.sub(\"[0-9]+\",\"\", sentence) # Removendo dígitos\n",
        "    sentence = re.sub(\"/+\",\"\", sentence) # Removendo \"/\"\n",
        "    sentence = re.sub(' +', ' ', sentence) # Removendo espaçamentos repetitivos\n",
        "    \n",
        "    doc=nlp(sentence) # Tokenização\n",
        "\n",
        "    tokens=[token.text for token in doc]\n",
        "    tokens=[token for token in tokens if token not in filter_words] # Removendo caracteres e palavras salvos em filter_words\n",
        "\n",
        "    return tokens"
      ]
    },
    {
      "cell_type": "code",
      "execution_count": null,
      "metadata": {
        "id": "WDk1MVaTGOgN"
      },
      "outputs": [],
      "source": [
        "# Aplicação do tratamento na lista de licitações\n",
        "item['DS_ITEM_TRATADO'] = item['DS_ITEM'].apply(lambda DS_ITEM: clean_data_tokenization(DS_ITEM))\n",
        "item.to_csv('/content/drive/MyDrive/IBM/Data Science/BTP/Datasets/Lic_RS/2021_TRATADO_ITENS_LARGE_2.csv') #salvando un novo arquivo csv com os dados tratado"
      ]
    },
    {
      "cell_type": "markdown",
      "metadata": {
        "id": "3S5v1zrfp46g"
      },
      "source": [
        "(251498, 63)\n",
        "(239889, 21)"
      ]
    },
    {
      "cell_type": "code",
      "source": [
        "#Observando os resultados da tokenização\n",
        "item['DS_ITEM_TRATADO'].head()"
      ],
      "metadata": {
        "colab": {
          "base_uri": "https://localhost:8080/"
        },
        "id": "3cJzI4YpiMZK",
        "outputId": "beeb7232-6f53-4791-effa-e4e2d6fa25ab"
      },
      "execution_count": null,
      "outputs": [
        {
          "output_type": "execute_result",
          "data": {
            "text/plain": [
              "0    [credenciamento, academias, ginástica, muscula...\n",
              "1    [placa, obra, construcao, civil, chapa, galvan...\n",
              "2                 [tapume, compensado, madeira, af, _]\n",
              "3    [poda, altura, árvore, diâmetro, tronco, maior...\n",
              "4    [locacao, container, x, alt, escritorio, divis...\n",
              "Name: DS_ITEM_TRATADO, dtype: object"
            ]
          },
          "metadata": {},
          "execution_count": 24
        }
      ]
    },
    {
      "cell_type": "markdown",
      "source": [
        "## Trabalhando o Modelo\n",
        "\n",
        "Finalmente chegamos em uma das partes mais. trabalhosas de um projeto de aprendizado não supervisionado.\n",
        "Esta parte me consumiu horas para encontrar os parâmetros ideais para o treinamento do modelo. O processo de tokenização foi repetido inúmeras vezes conforme fosse identificado palavras que inteferiam no processo e não possuiam valor para a clusterização.\n",
        "\n",
        "## Mineração dos textos - TFIDF e K-Means\n",
        "Neste projeto, utilizaremos um cálculo estatístico chamado **TFIDF**, que irá medir quais termos são mais relevantes para um tópico. Ele faz isso através de uma análise da frequência em que um termo aparece no registro  em comparação à sua frequência em em todo o documento."
      ],
      "metadata": {
        "id": "e63v3_OnMOE2"
      }
    },
    {
      "cell_type": "code",
      "execution_count": null,
      "metadata": {
        "id": "TB7AtbdJvRyT"
      },
      "outputs": [],
      "source": [
        "def identity_tokenizer(text):\n",
        "    return text\n",
        "\n",
        "vectorizer = TfidfVectorizer(max_df=0.8, min_df=30, lowercase=False, tokenizer=identity_tokenizer)\n",
        "tfidf = vectorizer.fit_transform(item['DS_ITEM_TRATADO'])"
      ]
    },
    {
      "cell_type": "code",
      "source": [
        "item = pd.read_csv('/content/drive/MyDrive/IBM/Data Science/BTP/Datasets/Lic_RS/2021_TRATADO_ITENS_LARGE.csv')"
      ],
      "metadata": {
        "id": "-0Ra4zzhOxdz"
      },
      "execution_count": null,
      "outputs": []
    },
    {
      "cell_type": "code",
      "execution_count": null,
      "metadata": {
        "id": "V8HLLq8PGkCJ"
      },
      "outputs": [],
      "source": [
        "wcss = []\n",
        "minimo=2\n",
        "maximo=35\n",
        "step=2"
      ]
    },
    {
      "cell_type": "code",
      "execution_count": null,
      "metadata": {
        "colab": {
          "base_uri": "https://localhost:8080/"
        },
        "id": "8M-2plhUNPBO",
        "outputId": "1805cd39-a6b0-4476-e52a-87f228b5f29f"
      },
      "outputs": [
        {
          "output_type": "stream",
          "name": "stderr",
          "text": [
            "100%|██████████| 17/17 [1:24:41<00:00, 298.94s/it]\n"
          ]
        }
      ],
      "source": [
        "for n in tqdm(range(minimo, maximo, step)):\n",
        "    kmeans_model = KMeans(n_clusters=n, init='k-means++', max_iter=500, algorithm='full')\n",
        "    kmeans_model.fit(tfidf)\n",
        "    wcss.append(kmeans_model.inertia_)\n",
        "\n"
      ]
    },
    {
      "cell_type": "code",
      "execution_count": null,
      "metadata": {
        "colab": {
          "base_uri": "https://localhost:8080/",
          "height": 279
        },
        "id": "XOHLfZVENTAJ",
        "outputId": "fcc493bb-c985-4b06-864f-b84a2bb18d36"
      },
      "outputs": [
        {
          "output_type": "display_data",
          "data": {
            "image/png": "[encoded data removed]",
            "text/plain": [
              "<Figure size 432x288 with 1 Axes>"
            ]
          },
          "metadata": {
            "needs_background": "light"
          }
        }
      ],
      "source": [
        "# Show graph\n",
        "from matplotlib.ticker import AutoMinorLocator\n",
        "x = range(minimo, maximo, step)\n",
        "\n",
        "plt.plot(x, wcss)\n",
        "plt.xlabel(\"Num Topic\")\n",
        "plt.ylabel(\"Soma dos quadrados intracluster\")\n",
        "plt.grid(True)\n",
        "\n",
        "\n",
        "plt.show()"
      ]
    },
    {
      "cell_type": "markdown",
      "source": [
        "Vemos pequenos traços de mudanças da linha com 4, 7, 20 e 32 clusters. Seguiremos ao modelo usando 20 como o número de separaçoes dos tópicos do documento. 4 e 7 não são suficientes e 32 pode ser demais, portanto 20 é o ideal no momento."
      ],
      "metadata": {
        "id": "PdnXWPt-SiHS"
      }
    },
    {
      "cell_type": "code",
      "execution_count": null,
      "metadata": {
        "id": "Tv2dcxQ20k_W"
      },
      "outputs": [],
      "source": [
        "\n",
        "kmeans_model = KMeans(n_clusters=20, init='k-means++', algorithm='full', max_iter=500)\n",
        "\n",
        "X = kmeans_model.fit(tfidf)\n",
        "\n",
        "labels = kmeans_model.labels_.tolist()\n"
      ]
    },
    {
      "cell_type": "code",
      "execution_count": null,
      "metadata": {
        "id": "RJHJv3B5oD2v"
      },
      "outputs": [],
      "source": [
        "item['topic'] = labels \n",
        "item.to_csv('/content/drive/MyDrive/IBM/Data Science/BTP/Datasets/Lic_RS/ITEM_2021_tfidf_20.csv')"
      ]
    },
    {
      "cell_type": "code",
      "execution_count": null,
      "metadata": {
        "id": "KMo38aE4nFhD"
      },
      "outputs": [],
      "source": [
        "item = pd.read_csv('/content/drive/MyDrive/IBM/Data Science/BTP/Datasets/Lic_RS/ITEM_2021_tfidf_20.csv')"
      ]
    },
    {
      "cell_type": "markdown",
      "source": [
        "## Observando os Tópicos\n",
        "\n",
        "Agora que os tópicos foram separados, iremos olhar um por um e identificar o possível nome para o grupo de itens considerados semelhantes pelo algoritmo."
      ],
      "metadata": {
        "id": "NRdWIiXPTVSV"
      }
    },
    {
      "cell_type": "code",
      "execution_count": null,
      "metadata": {
        "colab": {
          "base_uri": "https://localhost:8080/",
          "height": 423
        },
        "id": "mNRX9Y-S3X_M",
        "outputId": "f93ad33b-402b-4be4-db1f-c9a300227fa9"
      },
      "outputs": [
        {
          "output_type": "execute_result",
          "data": {
            "text/html": [
              "\n",
              "  <div id=\"df-e0d2ffe8-8e0b-48b0-9bb5-48a1ccf165e1\">\n",
              "    <div class=\"colab-df-container\">\n",
              "      <div>\n",
              "<style scoped>\n",
              "    .dataframe tbody tr th:only-of-type {\n",
              "        vertical-align: middle;\n",
              "    }\n",
              "\n",
              "    .dataframe tbody tr th {\n",
              "        vertical-align: top;\n",
              "    }\n",
              "\n",
              "    .dataframe thead th {\n",
              "        text-align: right;\n",
              "    }\n",
              "</style>\n",
              "<table border=\"1\" class=\"dataframe\">\n",
              "  <thead>\n",
              "    <tr style=\"text-align: right;\">\n",
              "      <th></th>\n",
              "      <th>DS_ITEM_TRATADO</th>\n",
              "      <th>topic</th>\n",
              "    </tr>\n",
              "  </thead>\n",
              "  <tbody>\n",
              "    <tr>\n",
              "      <th>1179</th>\n",
              "      <td>['filtro', 'pressão', 'hidráulico']</td>\n",
              "      <td>2</td>\n",
              "    </tr>\n",
              "    <tr>\n",
              "      <th>1180</th>\n",
              "      <td>['filtro', 'blindado', 'óleo']</td>\n",
              "      <td>2</td>\n",
              "    </tr>\n",
              "    <tr>\n",
              "      <th>1734</th>\n",
              "      <td>['filtro', 'diesel']</td>\n",
              "      <td>2</td>\n",
              "    </tr>\n",
              "    <tr>\n",
              "      <th>1755</th>\n",
              "      <td>['filtro', 'oleo', 'filtro', 'oleo', 'tm']</td>\n",
              "      <td>2</td>\n",
              "    </tr>\n",
              "    <tr>\n",
              "      <th>1756</th>\n",
              "      <td>['filtro', 'ar', 'condicionado', 'filtro', 'ar...</td>\n",
              "      <td>2</td>\n",
              "    </tr>\n",
              "    <tr>\n",
              "      <th>...</th>\n",
              "      <td>...</td>\n",
              "      <td>...</td>\n",
              "    </tr>\n",
              "    <tr>\n",
              "      <th>945001</th>\n",
              "      <td>['filtro', 'ar', 'ars', 'ford', 'cargo']</td>\n",
              "      <td>2</td>\n",
              "    </tr>\n",
              "    <tr>\n",
              "      <th>945002</th>\n",
              "      <td>['filtro', 'ar', 'ars', 'mercedes', 'benz']</td>\n",
              "      <td>2</td>\n",
              "    </tr>\n",
              "    <tr>\n",
              "      <th>945003</th>\n",
              "      <td>['filtro', 'interno', 'ar', 'ars', 'mercedes',...</td>\n",
              "      <td>2</td>\n",
              "    </tr>\n",
              "    <tr>\n",
              "      <th>945004</th>\n",
              "      <td>['filtro', 'externo', 'ar', 'ars', 'mercedes',...</td>\n",
              "      <td>2</td>\n",
              "    </tr>\n",
              "    <tr>\n",
              "      <th>945005</th>\n",
              "      <td>['filtro', 'diesel', 'mercedes', 'benz']</td>\n",
              "      <td>2</td>\n",
              "    </tr>\n",
              "  </tbody>\n",
              "</table>\n",
              "<p>12000 rows × 2 columns</p>\n",
              "</div>\n",
              "      <button class=\"colab-df-convert\" onclick=\"convertToInteractive('df-e0d2ffe8-8e0b-48b0-9bb5-48a1ccf165e1')\"\n",
              "              title=\"Convert this dataframe to an interactive table.\"\n",
              "              style=\"display:none;\">\n",
              "        \n",
              "  <svg xmlns=\"http://www.w3.org/2000/svg\" height=\"24px\"viewBox=\"0 0 24 24\"\n",
              "       width=\"24px\">\n",
              "    <path d=\"M0 0h24v24H0V0z\" fill=\"none\"/>\n",
              "    <path d=\"M18.56 5.44l.94 2.06.94-2.06 2.06-.94-2.06-.94-.94-2.06-.94 2.06-2.06.94zm-11 1L8.5 8.5l.94-2.06 2.06-.94-2.06-.94L8.5 2.5l-.94 2.06-2.06.94zm10 10l.94 2.06.94-2.06 2.06-.94-2.06-.94-.94-2.06-.94 2.06-2.06.94z\"/><path d=\"M17.41 7.96l-1.37-1.37c-.4-.4-.92-.59-1.43-.59-.52 0-1.04.2-1.43.59L10.3 9.45l-7.72 7.72c-.78.78-.78 2.05 0 2.83L4 21.41c.39.39.9.59 1.41.59.51 0 1.02-.2 1.41-.59l7.78-7.78 2.81-2.81c.8-.78.8-2.07 0-2.86zM5.41 20L4 18.59l7.72-7.72 1.47 1.35L5.41 20z\"/>\n",
              "  </svg>\n",
              "      </button>\n",
              "      \n",
              "  <style>\n",
              "    .colab-df-container {\n",
              "      display:flex;\n",
              "      flex-wrap:wrap;\n",
              "      gap: 12px;\n",
              "    }\n",
              "\n",
              "    .colab-df-convert {\n",
              "      background-color: #E8F0FE;\n",
              "      border: none;\n",
              "      border-radius: 50%;\n",
              "      cursor: pointer;\n",
              "      display: none;\n",
              "      fill: #1967D2;\n",
              "      height: 32px;\n",
              "      padding: 0 0 0 0;\n",
              "      width: 32px;\n",
              "    }\n",
              "\n",
              "    .colab-df-convert:hover {\n",
              "      background-color: #E2EBFA;\n",
              "      box-shadow: 0px 1px 2px rgba(60, 64, 67, 0.3), 0px 1px 3px 1px rgba(60, 64, 67, 0.15);\n",
              "      fill: #174EA6;\n",
              "    }\n",
              "\n",
              "    [theme=dark] .colab-df-convert {\n",
              "      background-color: #3B4455;\n",
              "      fill: #D2E3FC;\n",
              "    }\n",
              "\n",
              "    [theme=dark] .colab-df-convert:hover {\n",
              "      background-color: #434B5C;\n",
              "      box-shadow: 0px 1px 3px 1px rgba(0, 0, 0, 0.15);\n",
              "      filter: drop-shadow(0px 1px 2px rgba(0, 0, 0, 0.3));\n",
              "      fill: #FFFFFF;\n",
              "    }\n",
              "  </style>\n",
              "\n",
              "      <script>\n",
              "        const buttonEl =\n",
              "          document.querySelector('#df-e0d2ffe8-8e0b-48b0-9bb5-48a1ccf165e1 button.colab-df-convert');\n",
              "        buttonEl.style.display =\n",
              "          google.colab.kernel.accessAllowed ? 'block' : 'none';\n",
              "\n",
              "        async function convertToInteractive(key) {\n",
              "          const element = document.querySelector('#df-e0d2ffe8-8e0b-48b0-9bb5-48a1ccf165e1');\n",
              "          const dataTable =\n",
              "            await google.colab.kernel.invokeFunction('convertToInteractive',\n",
              "                                                     [key], {});\n",
              "          if (!dataTable) return;\n",
              "\n",
              "          const docLinkHtml = 'Like what you see? Visit the ' +\n",
              "            '<a target=\"_blank\" href=https://colab.research.google.com/notebooks/data_table.ipynb>data table notebook</a>'\n",
              "            + ' to learn more about interactive tables.';\n",
              "          element.innerHTML = '';\n",
              "          dataTable['output_type'] = 'display_data';\n",
              "          await google.colab.output.renderOutput(dataTable, element);\n",
              "          const docLink = document.createElement('div');\n",
              "          docLink.innerHTML = docLinkHtml;\n",
              "          element.appendChild(docLink);\n",
              "        }\n",
              "      </script>\n",
              "    </div>\n",
              "  </div>\n",
              "  "
            ],
            "text/plain": [
              "                                          DS_ITEM_TRATADO  topic\n",
              "1179                  ['filtro', 'pressão', 'hidráulico']      2\n",
              "1180                       ['filtro', 'blindado', 'óleo']      2\n",
              "1734                                 ['filtro', 'diesel']      2\n",
              "1755           ['filtro', 'oleo', 'filtro', 'oleo', 'tm']      2\n",
              "1756    ['filtro', 'ar', 'condicionado', 'filtro', 'ar...      2\n",
              "...                                                   ...    ...\n",
              "945001           ['filtro', 'ar', 'ars', 'ford', 'cargo']      2\n",
              "945002        ['filtro', 'ar', 'ars', 'mercedes', 'benz']      2\n",
              "945003  ['filtro', 'interno', 'ar', 'ars', 'mercedes',...      2\n",
              "945004  ['filtro', 'externo', 'ar', 'ars', 'mercedes',...      2\n",
              "945005           ['filtro', 'diesel', 'mercedes', 'benz']      2\n",
              "\n",
              "[12000 rows x 2 columns]"
            ]
          },
          "metadata": {},
          "execution_count": 5
        }
      ],
      "source": [
        "item[item['topic']==2][['DS_ITEM_TRATADO','topic']][0:12000]"
      ]
    },
    {
      "cell_type": "code",
      "source": [
        "#Atribuindo nomes aos grupos \n",
        "remap_clusters = {0:'Materiais Var.'\n",
        "                    , 1:'Fármacos'\n",
        "                    , 2:'Filtros'\n",
        "                    , 3:'Alimentos'\n",
        "                    , 4:'Variados'\n",
        "                    , 5:'Construção civil'\n",
        "                    , 6:'Variados'\n",
        "                    , 7:'Leite/semelhantes'\n",
        "                    , 8:'Variados'\n",
        "                    , 9:'Kits variados'\n",
        "                    , 10:'Mão de obra'\n",
        "                    , 11:'Tintas'\n",
        "                    , 12:'Transporte'\n",
        "                    , 13:'Luvas'\n",
        "                    , 14:'Encanamento'\n",
        "                    , 15:'Alvenaria'\n",
        "                    , 16:'Alimentos'\n",
        "                    , 17:'Pneus'\n",
        "                    , 18:'Variados'\n",
        "                    , 19:'Variados'}\n",
        "\n",
        "item['Topicos'] = item['topic'].map(remap_clusters)"
      ],
      "metadata": {
        "id": "2aO6SQxE3KE8"
      },
      "execution_count": null,
      "outputs": []
    },
    {
      "cell_type": "code",
      "source": [
        "#Exibindo a quantidade de itens para cada grupo\n",
        "item['Topicos'].value_counts()"
      ],
      "metadata": {
        "colab": {
          "base_uri": "https://localhost:8080/"
        },
        "id": "lwy9CTQY2c88",
        "outputId": "687fc441-a25a-4d3b-af7a-a5c5bbd5f625"
      },
      "execution_count": null,
      "outputs": [
        {
          "output_type": "execute_result",
          "data": {
            "text/plain": [
              "Variados             744596\n",
              "Alimentos             66267\n",
              "Materiais Var.        19599\n",
              "Pneus                 18924\n",
              "Fármacos              18083\n",
              "Encanamento           17011\n",
              "Alvenaria             15828\n",
              "Filtros               12583\n",
              "Construção civil      11806\n",
              "Tintas                10689\n",
              "Mão de obra            9898\n",
              "Luvas                  9145\n",
              "Kits variados          7888\n",
              "Transporte             5488\n",
              "Leite/semelhantes      4441\n",
              "Name: Topicos, dtype: int64"
            ]
          },
          "metadata": {},
          "execution_count": 7
        }
      ]
    },
    {
      "cell_type": "markdown",
      "source": [
        "Os modelos certamente tiveram dificuldade em separar os tópicos devidamente. Na lista acima podemos perceber que a maior parte dos dados não foram inseridos em clusters categóricos bem definidos.\n",
        "Como este projeto se trata apenas de um estudo inicial, iremos continuar a análise dos dados considerando somente os clusters categorizados devidamente."
      ],
      "metadata": {
        "id": "Zv4IMOSv4NDu"
      }
    },
    {
      "cell_type": "markdown",
      "source": [
        "## Analisando os grupos\n",
        "\n",
        "Agora que temos todos os grupos com seus devidos nomes atribuídos, qual será a categoria com maior número de itens solicitados ao Governo do Estado do Rio Grande do Sul? Quais meses possuem maior número de licitações? Quais os tickets com maior valor?\n",
        "\n",
        "A análisa a seguir irá nos dar a resposta para estas perguntas!"
      ],
      "metadata": {
        "id": "rmQGdLCpUMOg"
      }
    },
    {
      "cell_type": "code",
      "source": [
        "#Formando um array com os meses do pedido dos itens\n",
        "meses = item['DT_REF_VALOR_ESTIMADO'].str[5:7]\n",
        "meses = meses.dropna()\n",
        "meses = meses.astype(int)\n",
        "meses = meses.tolist()\n",
        "meses.sort()"
      ],
      "metadata": {
        "id": "FuTJR8KV7TyV"
      },
      "execution_count": null,
      "outputs": []
    },
    {
      "cell_type": "code",
      "execution_count": null,
      "metadata": {
        "colab": {
          "base_uri": "https://localhost:8080/",
          "height": 302
        },
        "id": "EQZghTzmZI17",
        "outputId": "0df7db0a-a228-4338-be98-4a60fd7fab1b"
      },
      "outputs": [
        {
          "output_type": "execute_result",
          "data": {
            "text/plain": [
              "Text(0.5, 1.0, 'Itens por Mês')"
            ]
          },
          "metadata": {},
          "execution_count": 12
        },
        {
          "output_type": "display_data",
          "data": {
            "image/png": "[encoded data removed]",
            "text/plain": [
              "<Figure size 432x288 with 1 Axes>"
            ]
          },
          "metadata": {}
        }
      ],
      "source": [
        "#Plotando o gráfico para visualização\n",
        "sns.set_theme(style=\"darkgrid\")\n",
        "ax = sns.countplot(x=meses)\n",
        "ax.set_title(\"Itens por Mês\")"
      ]
    },
    {
      "cell_type": "code",
      "source": [
        "item['DT_REF_VALOR_ESTIMADO'].str[5:7].value_counts()"
      ],
      "metadata": {
        "id": "nZPr-O4YMdox",
        "colab": {
          "base_uri": "https://localhost:8080/"
        },
        "outputId": "2cf05ba1-2a54-47a3-cc2a-80d738f96880"
      },
      "execution_count": null,
      "outputs": [
        {
          "output_type": "execute_result",
          "data": {
            "text/plain": [
              "07    30770\n",
              "08    30160\n",
              "06    28227\n",
              "04    27054\n",
              "05    26358\n",
              "03    25476\n",
              "10    24449\n",
              "09    23754\n",
              "02    23176\n",
              "11    22560\n",
              "01    18674\n",
              "12    11189\n",
              "Name: DT_REF_VALOR_ESTIMADO, dtype: int64"
            ]
          },
          "metadata": {},
          "execution_count": 16
        }
      ]
    },
    {
      "cell_type": "code",
      "source": [
        "11189*100/30770"
      ],
      "metadata": {
        "colab": {
          "base_uri": "https://localhost:8080/"
        },
        "id": "3Fbb3HIv43oT",
        "outputId": "7fdb23db-26df-44d9-dcb1-95c37bcba9af"
      },
      "execution_count": null,
      "outputs": [
        {
          "output_type": "execute_result",
          "data": {
            "text/plain": [
              "36.363340916477085"
            ]
          },
          "metadata": {},
          "execution_count": 17
        }
      ]
    },
    {
      "cell_type": "markdown",
      "source": [
        "Observando o gráfico acima, percebemos claramente que os meses com maiores números de itens licitados são julho e agosto. Dezembro, entretanto é o mês com o menor número de solicitações, **36,36% menor** que o mês de julho."
      ],
      "metadata": {
        "id": "SPCuVA0nL9tq"
      }
    },
    {
      "cell_type": "code",
      "source": [
        "group_tp = item[item.Topicos != 'Variados']\n",
        "group_tp = group_tp.groupby('Topicos')\n",
        "max_tp = group_tp.max().VL_UNITARIO_HOMOLOGADO\n",
        "max_tp = max_tp.sort_values()"
      ],
      "metadata": {
        "id": "QcYRbmFE3seC"
      },
      "execution_count": null,
      "outputs": []
    },
    {
      "cell_type": "code",
      "source": [
        "print(max_tp)"
      ],
      "metadata": {
        "colab": {
          "base_uri": "https://localhost:8080/"
        },
        "id": "0uOy5kfym9Uk",
        "outputId": "ebc2e0b5-bdbd-44c0-91e4-61dec415555f"
      },
      "execution_count": null,
      "outputs": [
        {
          "output_type": "stream",
          "name": "stdout",
          "text": [
            "Topicos\n",
            "Luvas                  28000.00\n",
            "Fármacos               39016.50\n",
            "Pneus                  58389.22\n",
            "Encanamento           110000.00\n",
            "Tintas                118500.00\n",
            "Materiais Var.        123305.52\n",
            "Kits variados         240000.00\n",
            "Leite/semelhantes     290100.00\n",
            "Alimentos             653201.58\n",
            "Filtros               900000.00\n",
            "Transporte           1232000.00\n",
            "Construção civil     1304741.32\n",
            "Alvenaria            1948000.00\n",
            "Mão de obra          7952550.00\n",
            "Name: VL_UNITARIO_HOMOLOGADO, dtype: float64\n"
          ]
        }
      ]
    },
    {
      "cell_type": "code",
      "source": [
        "#Plotando o gráfico para visualização\n",
        "max_tp.plot(x='Topicos', y=max_tp, kind='barh', figsize=(15, 7), fontsize=15 )\n",
        "ax = plt.axes()\n",
        "ax.axes.get_xaxis().set_visible(False)\n",
        "ax.set_facecolor('None')\n",
        "plt.grid(False)\n",
        "ax.spines['bottom'].set_visible(False)\n",
        "ax.spines['right'].set_visible(False)\n",
        "ax.spines['top'].set_visible(False)\n",
        "ax.set_title('Maior valor homologado por categoria', fontsize=25)\n",
        "plt.show()"
      ],
      "metadata": {
        "colab": {
          "base_uri": "https://localhost:8080/",
          "height": 436
        },
        "id": "0_u4lvm1nols",
        "outputId": "865e856c-344c-4a96-caf0-68d489cbd888"
      },
      "execution_count": null,
      "outputs": [
        {
          "output_type": "display_data",
          "data": {
            "image/png": "[encoded data removed]",
            "text/plain": [
              "<Figure size 1080x504 with 1 Axes>"
            ]
          },
          "metadata": {
            "needs_background": "light"
          }
        }
      ]
    },
    {
      "cell_type": "code",
      "source": [
        "n_item = item[item['Topicos']!='Variados']\n",
        "\n",
        "ax = n_item.groupby('Topicos').size().plot(kind='barh', figsize=[15,7], fontsize=15 )\n",
        "ax.axes.get_xaxis().set_visible(False)\n",
        "\n",
        "\n",
        "plt.grid(False)\n",
        "\n",
        "ax.spines['bottom'].set_visible(False)\n",
        "ax.spines['right'].set_visible(False)\n",
        "ax.spines['top'].set_visible(False)\n",
        "\n",
        "ax.set_title('Maior montante de itens por quantidade', fontsize=25)\n",
        "plt.show()"
      ],
      "metadata": {
        "colab": {
          "base_uri": "https://localhost:8080/",
          "height": 436
        },
        "id": "x-kITkbkRiPy",
        "outputId": "654a19ef-b45f-468e-8da2-042d1f311cd5"
      },
      "execution_count": null,
      "outputs": [
        {
          "output_type": "display_data",
          "data": {
            "image/png": "[encoded data removed]",
            "text/plain": [
              "<Figure size 1080x504 with 1 Axes>"
            ]
          },
          "metadata": {
            "needs_background": "light"
          }
        }
      ]
    },
    {
      "cell_type": "markdown",
      "source": [
        "Licitações para **serviços de mão de obra** apresentam maior valor de homologação nos itens analisados nesta etapa do projeto, o maior número de itens levando em consideração a quantidade, entretanto, pertence a categoria de **Alimentos**."
      ],
      "metadata": {
        "id": "vCSaYUdc6YVa"
      }
    },
    {
      "cell_type": "markdown",
      "source": [
        "#Conclusões\n",
        "\n",
        "Este projeto não apresentou bons resultados quannto a classificação dos items em categorias bem definifas. Seria necessário maiores testes de parâmetros e algoritmos ou, ainda, trabalhar mais intensamente na clusterização dos grupos que não foram bem distribuídos.\n",
        "\n",
        "\n",
        "Vimos também que há uma clara diferença de categoria entre o maior valor de ticket homologado, que foi atribuído às despesas com mão de obra, e o montante de itens por quantidade, que pertence à categoria de Alimentos.\n",
        "\n",
        "Esse tipo de análise é importante pois pode ser adaptada para diversas necessidades, como identificar quais itens possuem maior necessidade de compra, quanto está sendo investido em cada área, e até mesmo quais órgãos ou regiões do estado estão recebendo mais, ou menos, recursos. É uma ótima ferramente para compreender como o dinheiro do Estado está sendo distribuído!"
      ],
      "metadata": {
        "id": "fK_bOn1KUbif"
      }
    },
    {
      "cell_type": "code",
      "source": [
        ""
      ],
      "metadata": {
        "id": "w7DOeiMvvclw"
      },
      "execution_count": null,
      "outputs": []
    }
  ],
  "metadata": {
    "colab": {
      "collapsed_sections": [],
      "name": "Item_NLP_21_large.ipynb",
      "provenance": [],
      "mount_file_id": "1vA8WQ1CozSVh6HroQ6HEO2hTuA6zcoDp",
      "authorship_tag": "ABX9TyPLTjh7u4Zsdg9X4ab+22oK",
      "include_colab_link": true
    },
    "kernelspec": {
      "display_name": "Python 3",
      "name": "python3"
    },
    "language_info": {
      "name": "python"
    }
  },
  "nbformat": 4,
  "nbformat_minor": 0
}